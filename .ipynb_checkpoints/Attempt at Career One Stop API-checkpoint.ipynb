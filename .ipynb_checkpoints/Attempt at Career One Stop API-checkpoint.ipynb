{
 "cells": [
  {
   "cell_type": "code",
   "execution_count": 1,
   "metadata": {},
   "outputs": [],
   "source": [
    "# Dependencies\n",
    "import requests\n",
    "import json\n",
    "import os\n",
    "\n",
    "# Google developer API key\n",
    "from config import api_key\n",
    "from config1 import userId"
   ]
  },
  {
   "cell_type": "code",
   "execution_count": 7,
   "metadata": {},
   "outputs": [],
   "source": [
    "#set up a parameters dictionary\n",
    "\n",
    "location = \"60640\"\n",
    "keyword = \"Registered Nurse\"\n",
    "radius = 20\n",
    "num_days = 30\n",
    "sortColumns = 0\n",
    "sortOrder = \"ASC\"\n",
    "startRow = 1\n",
    "pageSize = 50\n",
    "\n",
    "\n",
    "params = {\n",
    "    \"location\": location,\n",
    "    \"keyword\": keyword,\n",
    "    \"radius\": radius,\n",
    "    \"days\": num_days,\n",
    "    \"API Token\": api_key,\n",
    "    \"userId\": userId,\n",
    "    \"sortColumns\": sortColumns,\n",
    "    \"sortOrder\":sortOrder,\n",
    "    \"startRow\": startRow,\n",
    "    \"pageSize\": pageSize\n",
    "    \n",
    "}\n",
    "\n",
    "# base url\n",
    "base_url = \"https://api.careeronestop.org/v1/\"\n",
    "\n",
    "# run a request using our params dictionary\n",
    "response = requests.get(base_url, params=params)"
   ]
  },
  {
   "cell_type": "code",
   "execution_count": 8,
   "metadata": {},
   "outputs": [],
   "source": [
    "job_data = response.json()"
   ]
  },
  {
   "cell_type": "code",
   "execution_count": 9,
   "metadata": {},
   "outputs": [
    {
     "data": {
      "text/plain": [
       "{'Message': \"No HTTP resource was found that matches the request URI 'http://api.careeronestop.org/v1/?location=60640&keyword=Registered+Nurse&radius=20&days=30&API+Token=2yfE7JMVpUQp3R2nLDoXSkkWjq6m5PXNqfx8XXVh5QQxRe%2BYXMKoRycUutgYwJH52XuOwFZeCo0kOPecbw4D0g%3D%3D&userId=CXOlBvO7gkfPdit&sortColumns=0&sortOrder=ASC&startRow=1&pageSize=50'.\"}"
      ]
     },
     "execution_count": 9,
     "metadata": {},
     "output_type": "execute_result"
    }
   ],
   "source": [
    "job_data"
   ]
  },
  {
   "cell_type": "code",
   "execution_count": null,
   "metadata": {},
   "outputs": [],
   "source": []
  }
 ],
 "metadata": {
  "kernelspec": {
   "display_name": "Python 3",
   "language": "python",
   "name": "python3"
  },
  "language_info": {
   "codemirror_mode": {
    "name": "ipython",
    "version": 3
   },
   "file_extension": ".py",
   "mimetype": "text/x-python",
   "name": "python",
   "nbconvert_exporter": "python",
   "pygments_lexer": "ipython3",
   "version": "3.7.1"
  }
 },
 "nbformat": 4,
 "nbformat_minor": 2
}
