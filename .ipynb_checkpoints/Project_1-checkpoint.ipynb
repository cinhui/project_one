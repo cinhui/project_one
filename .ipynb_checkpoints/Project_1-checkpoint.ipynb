{
 "cells": [
  {
   "cell_type": "code",
   "execution_count": 4,
   "metadata": {},
   "outputs": [],
   "source": [
    "%matplotlib notebook"
   ]
  },
  {
   "cell_type": "code",
   "execution_count": 5,
   "metadata": {},
   "outputs": [],
   "source": [
    "import os\n",
    "import csv\n",
    "import matplotlib.pyplot as plt\n",
    "import pandas as pd\n",
    "import numpy as np"
   ]
  },
  {
   "cell_type": "code",
   "execution_count": 1,
   "metadata": {},
   "outputs": [],
   "source": [
    "# Take in Glassdoor data and read it into pandas\n",
    "glassdoor_62017 = \"Resources/LPR-data-2017-06.csv\"\n",
    "glassdoor_62017_df = pd.read_csv(glassdoor_62017, encoding=\"utf-8\")\n",
    "# glassdoor_72017 = \"../Resources/LPR-data-2017-07.csv\"\n",
    "# glassdoor_82017 = \"../Resources/LPR-data-2017-08.csv\"\n",
    "# glassdoor_92017 = \"../Resources/LPR-data-2017-09.csv\"\n",
    "# glassdoor_102017 = \"../Resources/LPR-data-2017-10.csv\"\n",
    "# glassdoor_112017 = \"../Resources/LPR-data-2017-11.csv\"\n",
    "# glassdoor_122017 = \"../Resources/LPR-data-2017-12.csv\"\n",
    "\n",
    "# glassdoor_12018 = \"../Resources/LPR-data-2018-01.csv\"\n",
    "# glassdoor_22018 = \"../Resources/LPR-data-2018-02.csv\"\n",
    "# glassdoor_32018 = \"../Resources/LPR-data-2018-03.csv\"\n",
    "# glassdoor_42018 = \"../Resources/LPR-data-2018-04.csv\"\n",
    "# glassdoor_52018 = \"../Resources/LPR-data-2018-05.csv\"\n",
    "# glassdoor_62018 = \"../Resources/LPR-data-2018-06.csv\"\n",
    "# glassdoor_72018 = \"../Resources/LPR-data-2018-07.csv\"\n",
    "# glassdoor_82018 = \"../Resources/LPR-data-2018-08.csv\"\n",
    "# glassdoor_92018 = \"../Resources/LPR-data-2018-09.csv\"\n",
    "# glassdoor_102018 = \"../Resources/LPR-data-2018-10.csv\"\n",
    "# glassdoor_112018 = \"../Resources/LPR-data-2018-11.csv\"\n",
    "# glassdoor_122018 = \"../Resources/LPR-data-2018-12.csv\"\n",
    "\n",
    "# glassdoor_12019 = \"../Resources/LPR-data-2019-01.csv\"\n",
    "# glassdoor_22019 = \"../Resources/LPR-data-2019-02.csv\"\n",
    "\n",
    "\n",
    "\n",
    "\n",
    "\n",
    "# glassdoor_62017_df = pd.read_csv(glassdoor_62017, encoding=\"utf-8\")\n",
    "# glassdoor_62017_df = pd.read_csv(glassdoor_62017, encoding=\"cp1252\")\n",
    "\n",
    "# glassdoor_72017_df = pd.read_csv(glassdoor_72017)\n",
    "# glassdoor_82017_df = pd.read_csv(glassdoor_82017)\n",
    "# glassdoor_92017_df = pd.read_csv(glassdoor_92017)\n",
    "# glassdoor_102017_df = pd.read_csv(glassdoor_102017)\n",
    "# glassdoor_112017_df = pd.read_csv(glassdoor_112017)\n",
    "# glassdoor_122017_df = pd.read_csv(glassdoor_122017)\n",
    "\n",
    "# glassdoor_12018_df = pd.read_csv(glassdoor_12018)\n",
    "# glassdoor_22018_df = pd.read_csv(glassdoor_22018)\n",
    "# glassdoor_32018_df = pd.read_csv(glassdoor_32018)\n",
    "# glassdoor_42018_df = pd.read_csv(glassdoor_42018)\n",
    "# glassdoor_52018_df = pd.read_csv(glassdoor_52018)\n",
    "# glassdoor_62018_df = pd.read_csv(glassdoor_62018)\n",
    "# glassdoor_72018_df = pd.read_csv(glassdoor_72018)\n",
    "# glassdoor_82018_df = pd.read_csv(glassdoor_82018)\n",
    "# glassdoor_92018_df = pd.read_csv(glassdoor_92018)\n",
    "# glassdoor_102018_df = pd.read_csv(glassdoor_102018)\n",
    "# glassdoor_112018_df = pd.read_csv(glassdoor_112018)\n",
    "# glassdoor_122018_df = pd.read_csv(glassdoor_122018)\n",
    "\n",
    "# glassdoor_12019_df = pd.read_csv(glassdoor_12019)\n",
    "# glassdoor_22019_df = pd.read_csv(glassdoor_22019)"
   ]
  },
  {
   "cell_type": "code",
   "execution_count": 7,
   "metadata": {},
   "outputs": [
    {
     "ename": "NameError",
     "evalue": "name 'glassdoor_62017_df' is not defined",
     "output_type": "error",
     "traceback": [
      "\u001b[1;31m---------------------------------------------------------------------------\u001b[0m",
      "\u001b[1;31mNameError\u001b[0m                                 Traceback (most recent call last)",
      "\u001b[1;32m<ipython-input-7-98c24c30b854>\u001b[0m in \u001b[0;36m<module>\u001b[1;34m\u001b[0m\n\u001b[1;32m----> 1\u001b[1;33m \u001b[0mglassdoor_62017_df\u001b[0m\u001b[1;33m.\u001b[0m\u001b[0mhead\u001b[0m\u001b[1;33m(\u001b[0m\u001b[1;33m)\u001b[0m\u001b[1;33m\u001b[0m\u001b[1;33m\u001b[0m\u001b[0m\n\u001b[0m",
      "\u001b[1;31mNameError\u001b[0m: name 'glassdoor_62017_df' is not defined"
     ]
    }
   ],
   "source": [
    "glassdoor_62017_df.head()"
   ]
  },
  {
   "cell_type": "code",
   "execution_count": null,
   "metadata": {},
   "outputs": [],
   "source": []
  }
 ],
 "metadata": {
  "kernelspec": {
   "display_name": "Python 3",
   "language": "python",
   "name": "python3"
  },
  "language_info": {
   "codemirror_mode": {
    "name": "ipython",
    "version": 3
   },
   "file_extension": ".py",
   "mimetype": "text/x-python",
   "name": "python",
   "nbconvert_exporter": "python",
   "pygments_lexer": "ipython3",
   "version": "3.7.1"
  }
 },
 "nbformat": 4,
 "nbformat_minor": 2
}
