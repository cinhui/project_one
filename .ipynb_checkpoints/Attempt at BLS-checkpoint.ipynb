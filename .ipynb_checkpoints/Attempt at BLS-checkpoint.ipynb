{
 "cells": [
  {
   "cell_type": "code",
   "execution_count": 1,
   "metadata": {},
   "outputs": [],
   "source": [
    "import requests\n",
    "import json\n",
    "import os\n",
    "import prettytable\n",
    "# BLS developer API key\n",
    "from config2 import api_key"
   ]
  },
  {
   "cell_type": "code",
   "execution_count": 3,
   "metadata": {},
   "outputs": [
    {
     "ename": "IndentationError",
     "evalue": "unindent does not match any outer indentation level (<tokenize>, line 16)",
     "output_type": "error",
     "traceback": [
      "\u001b[1;36m  File \u001b[1;32m\"<tokenize>\"\u001b[1;36m, line \u001b[1;32m16\u001b[0m\n\u001b[1;33m    'if 'M01' <= period <= 'M12':'\u001b[0m\n\u001b[1;37m    ^\u001b[0m\n\u001b[1;31mIndentationError\u001b[0m\u001b[1;31m:\u001b[0m unindent does not match any outer indentation level\n"
     ]
    }
   ],
   "source": [
    "headers = {'Content-type': 'application/json'}\n",
    "data = json.dumps({\"seriesid\": ['CUUR0000SA0','SUUR0000SA0'],\"startyear\":\"2011\", \"endyear\":\"2014\"})\n",
    "p = requests.post('https://api.bls.gov/publicAPI/v2/timeseries/data/', data=data, headers=headers)\n",
    "json_data = json.loads(p.text)\n",
    "for series in json_data['Results']['series']:\n",
    "    x=prettytable.PrettyTable([\"series id\",\"year\",\"period\",\"value\",\"footnotes\"])\n",
    "    seriesId = series['seriesID']\n",
    "    for item in series['data']:\n",
    "        year = item['year']\n",
    "        period = item['period']\n",
    "        value = item['value']\n",
    "        footnotes=\"\"\n",
    "        for footnote in item['footnotes']:\n",
    "            if footnote:\n",
    "                footnotes = footnotes + footnote['text'] + ','\n",
    "        if 'M01' <= period <= 'M12':'\n",
    "            x.add_row([seriesId,year,period,value,footnotes[0:-1]])\n",
    "    output = open(seriesId + '.txt','w')\n",
    "    output.write (x.get_string())\n",
    "    output.close()\n",
    "\n",
    "\n",
    "\n",
    "\n",
    "\n",
    "\n",
    "\n",
    "\n",
    "\n",
    "# headers = {'Content-type': 'application/json'}\n",
    "# data = json.dumps({\"seriesid\": ['APU000070111'],\"startyear\":\"2018\", \"endyear\":\"2019\"})\n",
    "# p = requests.get('https://api.bls.gov/publicAPI/v2/timeseries/data/', data=data, headers=headers)\n",
    "# json_data = json.loads(p.text)\n",
    "# print(json_data)\n",
    "\n",
    "# location = \"60640\"\n",
    "# keyword = \"Registered Nurse\"\n",
    "# radius = 100\n",
    "# num_days = 30\n",
    "# sortColumns = 0\n",
    "# sortOrder = \"ASC\"\n",
    "# startRow = 1\n",
    "# pageSize = 50\n",
    "\n",
    "\n",
    "# params = {\n",
    "#     \"location\": location,\n",
    "#     \"keyword\": keyword,\n",
    "#     \"radius\": radius,\n",
    "#     \"days\": num_days,\n",
    "#     \"API Token\": api_key,\n",
    "#     \"userId\": userId,\n",
    "#     \"sortColumns\": sortColumns,\n",
    "#     \"sortOrder\":sortOrder,\n",
    "#     \"startRow\": startRow,\n",
    "#     \"pageSize\": pageSize\n",
    "    \n",
    "# }\n",
    "\n",
    "# # base url\n",
    "# base_url = \"https://api.bls.gov/publicAPI/v2/timeseries/data/\"\n",
    "\n",
    "# # run a request using our params dictionary\n",
    "# response = requests.get(base_url, params=params)"
   ]
  },
  {
   "cell_type": "code",
   "execution_count": null,
   "metadata": {},
   "outputs": [],
   "source": []
  }
 ],
 "metadata": {
  "kernelspec": {
   "display_name": "Python 3",
   "language": "python",
   "name": "python3"
  },
  "language_info": {
   "codemirror_mode": {
    "name": "ipython",
    "version": 3
   },
   "file_extension": ".py",
   "mimetype": "text/x-python",
   "name": "python",
   "nbconvert_exporter": "python",
   "pygments_lexer": "ipython3",
   "version": "3.7.1"
  }
 },
 "nbformat": 4,
 "nbformat_minor": 2
}
