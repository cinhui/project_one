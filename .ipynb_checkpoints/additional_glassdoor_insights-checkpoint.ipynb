{
 "cells": [
  {
   "cell_type": "code",
   "execution_count": 37,
   "metadata": {},
   "outputs": [],
   "source": [
    "%matplotlib inline\n",
    "import os\n",
    "import csv\n",
    "import matplotlib.pyplot as plt\n",
    "import pandas as pd\n",
    "import numpy as np\n",
    "from textwrap import wrap"
   ]
  },
  {
   "cell_type": "code",
   "execution_count": 44,
   "metadata": {},
   "outputs": [],
   "source": [
    "#read in the cleaned up glassdoor CSV\n",
    "glassdoor_csv = \"Resources/glassdoor_compiled.csv\"\n",
    "glassdoor_df = pd.read_csv(glassdoor_csv, encoding = \"utf-8\")\n",
    "glassdoor_df = glassdoor_df.drop(glassdoor_df.columns[0],axis=1)\n",
    "output_folder = \"output_figures/\""
   ]
  },
  {
   "cell_type": "code",
   "execution_count": 39,
   "metadata": {},
   "outputs": [],
   "source": [
    "# Create month and yr int columns\n",
    "glassdoor_df[\"mnth\"]=glassdoor_df[\"Month\"].str.split('-', expand=False).str[1].astype(str).astype(int)\n",
    "glassdoor_df[\"yr\"]=glassdoor_df[\"Month\"].str.split('-', expand=False).str[0].astype(str).astype(int)\n",
    "\n",
    "# List of quarters and bins used to create Q1/Q2/Q3/Q4 distinction\n",
    "quarters = [\"1\", \"2\", \"3\", \"4\"]\n",
    "quarter_bins = [0, 3.5, 6.5, 9.5, 12.5]\n",
    "\n",
    "# New dataframe\n",
    "glassdoor_q_df = glassdoor_df\n",
    "\n",
    "# Add column for quarter AND column for yr + (mnth / 10), \"yr_mnth\" (so we can sort largest to smallest and get most recent)\n",
    "# Also can perform trend of salary over last year by using the max of \"yr_mnth\" then subtracting 1,000 to get 1 year ago\n",
    "glassdoor_q_df[\"Quarter\"] = pd.cut(glassdoor_df[\"mnth\"], quarter_bins, labels=quarters).astype(\"float\")\n",
    "glassdoor_q_df[\"yr_mnth\"] = (glassdoor_df[\"yr\"] + (glassdoor_df[\"mnth\"] / 100)).astype(\"float\")\n",
    "glassdoor_q_df[\"yr_quarter\"] = (glassdoor_df[\"yr\"] + (glassdoor_df[\"Quarter\"] / 100)).astype(\"float\")"
   ]
  },
  {
   "cell_type": "markdown",
   "metadata": {},
   "source": [
    "<h3>Below, you will see a list of cities that you can choose from (including a \"National\" option), and a list of job titles. Select what you're interested to see information assocaited with the info you choose!</h3>"
   ]
  },
  {
   "cell_type": "code",
   "execution_count": 40,
   "metadata": {},
   "outputs": [
    {
     "data": {
      "text/html": [
       "<div>\n",
       "<style scoped>\n",
       "    .dataframe tbody tr th:only-of-type {\n",
       "        vertical-align: middle;\n",
       "    }\n",
       "\n",
       "    .dataframe tbody tr th {\n",
       "        vertical-align: top;\n",
       "    }\n",
       "\n",
       "    .dataframe thead th {\n",
       "        text-align: right;\n",
       "    }\n",
       "</style>\n",
       "<table border=\"1\" class=\"dataframe\">\n",
       "  <thead>\n",
       "    <tr style=\"text-align: right;\">\n",
       "      <th></th>\n",
       "      <th>0</th>\n",
       "    </tr>\n",
       "  </thead>\n",
       "  <tbody>\n",
       "    <tr>\n",
       "      <th>0</th>\n",
       "      <td>National</td>\n",
       "    </tr>\n",
       "    <tr>\n",
       "      <th>1</th>\n",
       "      <td>Atlanta</td>\n",
       "    </tr>\n",
       "    <tr>\n",
       "      <th>2</th>\n",
       "      <td>New York City</td>\n",
       "    </tr>\n",
       "    <tr>\n",
       "      <th>3</th>\n",
       "      <td>Los Angeles</td>\n",
       "    </tr>\n",
       "    <tr>\n",
       "      <th>4</th>\n",
       "      <td>Philadelphia</td>\n",
       "    </tr>\n",
       "    <tr>\n",
       "      <th>5</th>\n",
       "      <td>Houston</td>\n",
       "    </tr>\n",
       "    <tr>\n",
       "      <th>6</th>\n",
       "      <td>Seattle</td>\n",
       "    </tr>\n",
       "    <tr>\n",
       "      <th>7</th>\n",
       "      <td>San Francisco</td>\n",
       "    </tr>\n",
       "    <tr>\n",
       "      <th>8</th>\n",
       "      <td>Chicago</td>\n",
       "    </tr>\n",
       "    <tr>\n",
       "      <th>9</th>\n",
       "      <td>Boston</td>\n",
       "    </tr>\n",
       "    <tr>\n",
       "      <th>10</th>\n",
       "      <td>Washington DC</td>\n",
       "    </tr>\n",
       "  </tbody>\n",
       "</table>\n",
       "</div>"
      ],
      "text/plain": [
       "                0\n",
       "0        National\n",
       "1         Atlanta\n",
       "2   New York City\n",
       "3     Los Angeles\n",
       "4    Philadelphia\n",
       "5         Houston\n",
       "6         Seattle\n",
       "7   San Francisco\n",
       "8         Chicago\n",
       "9          Boston\n",
       "10  Washington DC"
      ]
     },
     "execution_count": 40,
     "metadata": {},
     "output_type": "execute_result"
    }
   ],
   "source": [
    "#create a series of relevant data frames, separating out the \"Dimension\" column so that all like information is grouped\n",
    "glassdoor_job_title = glassdoor_df[glassdoor_df['Dimension Type']=='Job Title']\n",
    "glassdoor_job_title.reset_index(drop=True,inplace=True)\n",
    "\n",
    "\n",
    "# Print out the list of cities\n",
    "cities = pd.DataFrame(glassdoor_job_title[\"Metro\"].unique())\n",
    "cities\n",
    "# print(f\"Your city options are {cities}\")"
   ]
  },
  {
   "cell_type": "code",
   "execution_count": 41,
   "metadata": {},
   "outputs": [
    {
     "data": {
      "text/html": [
       "<div>\n",
       "<style scoped>\n",
       "    .dataframe tbody tr th:only-of-type {\n",
       "        vertical-align: middle;\n",
       "    }\n",
       "\n",
       "    .dataframe tbody tr th {\n",
       "        vertical-align: top;\n",
       "    }\n",
       "\n",
       "    .dataframe thead th {\n",
       "        text-align: right;\n",
       "    }\n",
       "</style>\n",
       "<table border=\"1\" class=\"dataframe\">\n",
       "  <thead>\n",
       "    <tr style=\"text-align: right;\">\n",
       "      <th></th>\n",
       "      <th>Job Titles</th>\n",
       "    </tr>\n",
       "  </thead>\n",
       "  <tbody>\n",
       "    <tr>\n",
       "      <th>0</th>\n",
       "      <td>Accountant</td>\n",
       "    </tr>\n",
       "    <tr>\n",
       "      <th>1</th>\n",
       "      <td>Administrative Assistant</td>\n",
       "    </tr>\n",
       "    <tr>\n",
       "      <th>2</th>\n",
       "      <td>Attorney</td>\n",
       "    </tr>\n",
       "    <tr>\n",
       "      <th>3</th>\n",
       "      <td>Bank Teller</td>\n",
       "    </tr>\n",
       "    <tr>\n",
       "      <th>4</th>\n",
       "      <td>Barista</td>\n",
       "    </tr>\n",
       "    <tr>\n",
       "      <th>5</th>\n",
       "      <td>Bartender</td>\n",
       "    </tr>\n",
       "    <tr>\n",
       "      <th>6</th>\n",
       "      <td>Business Analyst</td>\n",
       "    </tr>\n",
       "    <tr>\n",
       "      <th>7</th>\n",
       "      <td>Business Development Manager</td>\n",
       "    </tr>\n",
       "    <tr>\n",
       "      <th>8</th>\n",
       "      <td>Buyer</td>\n",
       "    </tr>\n",
       "    <tr>\n",
       "      <th>9</th>\n",
       "      <td>Cashier</td>\n",
       "    </tr>\n",
       "    <tr>\n",
       "      <th>10</th>\n",
       "      <td>Certified Nursing Assistant</td>\n",
       "    </tr>\n",
       "    <tr>\n",
       "      <th>11</th>\n",
       "      <td>Civil Engineer</td>\n",
       "    </tr>\n",
       "    <tr>\n",
       "      <th>12</th>\n",
       "      <td>Claims Adjuster</td>\n",
       "    </tr>\n",
       "    <tr>\n",
       "      <th>13</th>\n",
       "      <td>Communications Manager</td>\n",
       "    </tr>\n",
       "    <tr>\n",
       "      <th>14</th>\n",
       "      <td>Construction Laborer</td>\n",
       "    </tr>\n",
       "    <tr>\n",
       "      <th>15</th>\n",
       "      <td>Consultant</td>\n",
       "    </tr>\n",
       "    <tr>\n",
       "      <th>16</th>\n",
       "      <td>Customer Service Manager</td>\n",
       "    </tr>\n",
       "    <tr>\n",
       "      <th>17</th>\n",
       "      <td>Customer Service Representative</td>\n",
       "    </tr>\n",
       "    <tr>\n",
       "      <th>18</th>\n",
       "      <td>Data Analyst</td>\n",
       "    </tr>\n",
       "    <tr>\n",
       "      <th>19</th>\n",
       "      <td>Data Scientist</td>\n",
       "    </tr>\n",
       "    <tr>\n",
       "      <th>20</th>\n",
       "      <td>Delivery Driver</td>\n",
       "    </tr>\n",
       "    <tr>\n",
       "      <th>21</th>\n",
       "      <td>Design Engineer</td>\n",
       "    </tr>\n",
       "    <tr>\n",
       "      <th>22</th>\n",
       "      <td>Electrical Engineer</td>\n",
       "    </tr>\n",
       "    <tr>\n",
       "      <th>23</th>\n",
       "      <td>Emergency Medical Technician</td>\n",
       "    </tr>\n",
       "    <tr>\n",
       "      <th>24</th>\n",
       "      <td>Field Engineer</td>\n",
       "    </tr>\n",
       "    <tr>\n",
       "      <th>25</th>\n",
       "      <td>Financial Advisor</td>\n",
       "    </tr>\n",
       "    <tr>\n",
       "      <th>26</th>\n",
       "      <td>Financial Analyst</td>\n",
       "    </tr>\n",
       "    <tr>\n",
       "      <th>27</th>\n",
       "      <td>Graphic Designer</td>\n",
       "    </tr>\n",
       "    <tr>\n",
       "      <th>28</th>\n",
       "      <td>Human Resources Manager</td>\n",
       "    </tr>\n",
       "    <tr>\n",
       "      <th>29</th>\n",
       "      <td>IT Manager</td>\n",
       "    </tr>\n",
       "    <tr>\n",
       "      <th>30</th>\n",
       "      <td>Insurance Agent</td>\n",
       "    </tr>\n",
       "    <tr>\n",
       "      <th>31</th>\n",
       "      <td>Java Developer</td>\n",
       "    </tr>\n",
       "    <tr>\n",
       "      <th>32</th>\n",
       "      <td>Licensed Practical Nurse</td>\n",
       "    </tr>\n",
       "    <tr>\n",
       "      <th>33</th>\n",
       "      <td>Loan Officer</td>\n",
       "    </tr>\n",
       "    <tr>\n",
       "      <th>34</th>\n",
       "      <td>Machine Operator</td>\n",
       "    </tr>\n",
       "    <tr>\n",
       "      <th>35</th>\n",
       "      <td>Maintenance Technician</td>\n",
       "    </tr>\n",
       "    <tr>\n",
       "      <th>36</th>\n",
       "      <td>Maintenance Worker</td>\n",
       "    </tr>\n",
       "    <tr>\n",
       "      <th>37</th>\n",
       "      <td>Manufacturing Engineer</td>\n",
       "    </tr>\n",
       "    <tr>\n",
       "      <th>38</th>\n",
       "      <td>Marketing Manager</td>\n",
       "    </tr>\n",
       "    <tr>\n",
       "      <th>39</th>\n",
       "      <td>Material Handler</td>\n",
       "    </tr>\n",
       "    <tr>\n",
       "      <th>40</th>\n",
       "      <td>Mechanical Engineer</td>\n",
       "    </tr>\n",
       "    <tr>\n",
       "      <th>41</th>\n",
       "      <td>Medical Assistant</td>\n",
       "    </tr>\n",
       "    <tr>\n",
       "      <th>42</th>\n",
       "      <td>Medical Technologist</td>\n",
       "    </tr>\n",
       "    <tr>\n",
       "      <th>43</th>\n",
       "      <td>Network Engineer</td>\n",
       "    </tr>\n",
       "    <tr>\n",
       "      <th>44</th>\n",
       "      <td>Office Manager</td>\n",
       "    </tr>\n",
       "    <tr>\n",
       "      <th>45</th>\n",
       "      <td>Operations Analyst</td>\n",
       "    </tr>\n",
       "    <tr>\n",
       "      <th>46</th>\n",
       "      <td>Operations Manager</td>\n",
       "    </tr>\n",
       "    <tr>\n",
       "      <th>47</th>\n",
       "      <td>Paralegal</td>\n",
       "    </tr>\n",
       "    <tr>\n",
       "      <th>48</th>\n",
       "      <td>Pharmacist</td>\n",
       "    </tr>\n",
       "    <tr>\n",
       "      <th>49</th>\n",
       "      <td>Pharmacy Technician</td>\n",
       "    </tr>\n",
       "    <tr>\n",
       "      <th>50</th>\n",
       "      <td>Physical Therapist</td>\n",
       "    </tr>\n",
       "    <tr>\n",
       "      <th>51</th>\n",
       "      <td>Process Engineer</td>\n",
       "    </tr>\n",
       "    <tr>\n",
       "      <th>52</th>\n",
       "      <td>Producer</td>\n",
       "    </tr>\n",
       "    <tr>\n",
       "      <th>53</th>\n",
       "      <td>Product Manager</td>\n",
       "    </tr>\n",
       "    <tr>\n",
       "      <th>54</th>\n",
       "      <td>Production Manager</td>\n",
       "    </tr>\n",
       "    <tr>\n",
       "      <th>55</th>\n",
       "      <td>Professor</td>\n",
       "    </tr>\n",
       "    <tr>\n",
       "      <th>56</th>\n",
       "      <td>Program Manager</td>\n",
       "    </tr>\n",
       "    <tr>\n",
       "      <th>57</th>\n",
       "      <td>Programmer Analyst</td>\n",
       "    </tr>\n",
       "    <tr>\n",
       "      <th>58</th>\n",
       "      <td>Project Manager</td>\n",
       "    </tr>\n",
       "    <tr>\n",
       "      <th>59</th>\n",
       "      <td>Property Manager</td>\n",
       "    </tr>\n",
       "    <tr>\n",
       "      <th>60</th>\n",
       "      <td>Quality Engineer</td>\n",
       "    </tr>\n",
       "    <tr>\n",
       "      <th>61</th>\n",
       "      <td>Recruiter</td>\n",
       "    </tr>\n",
       "    <tr>\n",
       "      <th>62</th>\n",
       "      <td>Registered Nurse</td>\n",
       "    </tr>\n",
       "    <tr>\n",
       "      <th>63</th>\n",
       "      <td>Research Assistant</td>\n",
       "    </tr>\n",
       "    <tr>\n",
       "      <th>64</th>\n",
       "      <td>Restaurant Cook</td>\n",
       "    </tr>\n",
       "    <tr>\n",
       "      <th>65</th>\n",
       "      <td>Restaurant Manager</td>\n",
       "    </tr>\n",
       "    <tr>\n",
       "      <th>66</th>\n",
       "      <td>Retail Key Holder</td>\n",
       "    </tr>\n",
       "    <tr>\n",
       "      <th>67</th>\n",
       "      <td>Sales Manager</td>\n",
       "    </tr>\n",
       "    <tr>\n",
       "      <th>68</th>\n",
       "      <td>Sales Representative</td>\n",
       "    </tr>\n",
       "    <tr>\n",
       "      <th>69</th>\n",
       "      <td>Security Officer</td>\n",
       "    </tr>\n",
       "    <tr>\n",
       "      <th>70</th>\n",
       "      <td>Server</td>\n",
       "    </tr>\n",
       "    <tr>\n",
       "      <th>71</th>\n",
       "      <td>Software Engineer</td>\n",
       "    </tr>\n",
       "    <tr>\n",
       "      <th>72</th>\n",
       "      <td>Solutions Architect</td>\n",
       "    </tr>\n",
       "    <tr>\n",
       "      <th>73</th>\n",
       "      <td>Store Manager</td>\n",
       "    </tr>\n",
       "    <tr>\n",
       "      <th>74</th>\n",
       "      <td>Systems Engineer</td>\n",
       "    </tr>\n",
       "    <tr>\n",
       "      <th>75</th>\n",
       "      <td>Tax Manager</td>\n",
       "    </tr>\n",
       "    <tr>\n",
       "      <th>76</th>\n",
       "      <td>Teacher</td>\n",
       "    </tr>\n",
       "    <tr>\n",
       "      <th>77</th>\n",
       "      <td>Technical Editor</td>\n",
       "    </tr>\n",
       "    <tr>\n",
       "      <th>78</th>\n",
       "      <td>Technical Support</td>\n",
       "    </tr>\n",
       "    <tr>\n",
       "      <th>79</th>\n",
       "      <td>Technician</td>\n",
       "    </tr>\n",
       "    <tr>\n",
       "      <th>80</th>\n",
       "      <td>Truck Driver</td>\n",
       "    </tr>\n",
       "    <tr>\n",
       "      <th>81</th>\n",
       "      <td>UX Designer</td>\n",
       "    </tr>\n",
       "    <tr>\n",
       "      <th>82</th>\n",
       "      <td>Warehouse Associate</td>\n",
       "    </tr>\n",
       "    <tr>\n",
       "      <th>83</th>\n",
       "      <td>Web Designer</td>\n",
       "    </tr>\n",
       "    <tr>\n",
       "      <th>84</th>\n",
       "      <td>Web Developer</td>\n",
       "    </tr>\n",
       "  </tbody>\n",
       "</table>\n",
       "</div>"
      ],
      "text/plain": [
       "                         Job Titles\n",
       "0                        Accountant\n",
       "1          Administrative Assistant\n",
       "2                          Attorney\n",
       "3                       Bank Teller\n",
       "4                           Barista\n",
       "5                         Bartender\n",
       "6                  Business Analyst\n",
       "7      Business Development Manager\n",
       "8                             Buyer\n",
       "9                           Cashier\n",
       "10      Certified Nursing Assistant\n",
       "11                   Civil Engineer\n",
       "12                  Claims Adjuster\n",
       "13           Communications Manager\n",
       "14             Construction Laborer\n",
       "15                       Consultant\n",
       "16         Customer Service Manager\n",
       "17  Customer Service Representative\n",
       "18                     Data Analyst\n",
       "19                   Data Scientist\n",
       "20                  Delivery Driver\n",
       "21                  Design Engineer\n",
       "22              Electrical Engineer\n",
       "23     Emergency Medical Technician\n",
       "24                   Field Engineer\n",
       "25                Financial Advisor\n",
       "26                Financial Analyst\n",
       "27                 Graphic Designer\n",
       "28          Human Resources Manager\n",
       "29                       IT Manager\n",
       "30                  Insurance Agent\n",
       "31                   Java Developer\n",
       "32         Licensed Practical Nurse\n",
       "33                     Loan Officer\n",
       "34                 Machine Operator\n",
       "35           Maintenance Technician\n",
       "36               Maintenance Worker\n",
       "37           Manufacturing Engineer\n",
       "38                Marketing Manager\n",
       "39                 Material Handler\n",
       "40              Mechanical Engineer\n",
       "41                Medical Assistant\n",
       "42             Medical Technologist\n",
       "43                 Network Engineer\n",
       "44                   Office Manager\n",
       "45               Operations Analyst\n",
       "46               Operations Manager\n",
       "47                        Paralegal\n",
       "48                       Pharmacist\n",
       "49              Pharmacy Technician\n",
       "50               Physical Therapist\n",
       "51                 Process Engineer\n",
       "52                         Producer\n",
       "53                  Product Manager\n",
       "54               Production Manager\n",
       "55                        Professor\n",
       "56                  Program Manager\n",
       "57               Programmer Analyst\n",
       "58                  Project Manager\n",
       "59                 Property Manager\n",
       "60                 Quality Engineer\n",
       "61                        Recruiter\n",
       "62                 Registered Nurse\n",
       "63               Research Assistant\n",
       "64                  Restaurant Cook\n",
       "65               Restaurant Manager\n",
       "66                Retail Key Holder\n",
       "67                    Sales Manager\n",
       "68             Sales Representative\n",
       "69                 Security Officer\n",
       "70                           Server\n",
       "71                Software Engineer\n",
       "72              Solutions Architect\n",
       "73                    Store Manager\n",
       "74                 Systems Engineer\n",
       "75                      Tax Manager\n",
       "76                          Teacher\n",
       "77                 Technical Editor\n",
       "78                Technical Support\n",
       "79                       Technician\n",
       "80                     Truck Driver\n",
       "81                      UX Designer\n",
       "82              Warehouse Associate\n",
       "83                     Web Designer\n",
       "84                    Web Developer"
      ]
     },
     "execution_count": 41,
     "metadata": {},
     "output_type": "execute_result"
    }
   ],
   "source": [
    "#create list of job title for people to choose from\n",
    "pd.set_option('display.max_rows', 100)\n",
    "#create list of job titles for people to choose from\n",
    "job_titles = pd.DataFrame(glassdoor_job_title[\"Dimension\"].unique())\n",
    "job_titles = job_titles.rename(columns={0:\"Job Titles\"})\n",
    "job_titles.sort_values([\"Job Titles\"],inplace = True)\n",
    "job_titles.reset_index(drop=True,inplace = True)\n",
    "job_titles"
   ]
  },
  {
   "cell_type": "code",
   "execution_count": 7,
   "metadata": {},
   "outputs": [
    {
     "name": "stdout",
     "output_type": "stream",
     "text": [
      "What city are you interested in? Chicago\n",
      "Looking at the job list, what job are you interested in? Data Analyst\n"
     ]
    }
   ],
   "source": [
    "# Query user for city and job\n",
    "city = input(\"What city are you interested in? \")\n",
    "job = input(\"Looking at the job list, what job are you interested in? \")"
   ]
  },
  {
   "cell_type": "code",
   "execution_count": 42,
   "metadata": {},
   "outputs": [],
   "source": [
    "# Based on input, provide job openings for most recent year/month as well as year ago, and calculate trend\n",
    "current_city_openings_df = glassdoor_q_df\n",
    "current_city_openings_df = current_city_openings_df[(current_city_openings_df['Dimension Type']=='Quick Facts') & (current_city_openings_df['Metro']==city) & (current_city_openings_df['Measure']=='Job Openings')]\n",
    "\n",
    "curr_city_most_recent_yr_mnth = (current_city_openings_df[\"yr_mnth\"].max()).astype(\"float\")\n",
    "curr_city_previous_yr_mnth = (curr_city_most_recent_yr_mnth - 1).astype(\"float\")\n",
    "\n",
    "curr_city_most_recent_yr_mnth_openings = current_city_openings_df[(current_city_openings_df['yr_mnth']==curr_city_most_recent_yr_mnth)].iloc[0,5].astype(\"int\")\n",
    "curr_city_previous_yr_mnth_openings = current_city_openings_df[(current_city_openings_df['yr_mnth']==curr_city_previous_yr_mnth)].iloc[0,5].astype(\"int\")\n",
    "curr_city_openings_per_change = round((curr_city_most_recent_yr_mnth_openings - curr_city_previous_yr_mnth_openings) / curr_city_previous_yr_mnth_openings * 100, 2)\n",
    "\n",
    "# print(f\"Fact: There are currently {curr_city_most_recent_yr_mnth_openings} job openings in {city} as compared to {curr_city_previous_yr_mnth_openings} openings a year ago, a change of {curr_city_openings_per_change}%\")"
   ]
  },
  {
   "cell_type": "code",
   "execution_count": 9,
   "metadata": {},
   "outputs": [
    {
     "name": "stderr",
     "output_type": "stream",
     "text": [
      "C:\\Users\\jazzs\\Anaconda3\\envs\\PythonData\\lib\\site-packages\\matplotlib\\cbook\\__init__.py:424: MatplotlibDeprecationWarning: \n",
      "Passing one of 'on', 'true', 'off', 'false' as a boolean is deprecated; use an actual boolean (True/False) instead.\n",
      "  warn_deprecated(\"2.2\", \"Passing one of 'on', 'true', 'off', 'false' as a \"\n"
     ]
    },
    {
     "data": {
      "image/png": "[encoded data removed]",
      "text/plain": [
       "<Figure size 432x288 with 1 Axes>"
      ]
     },
     "metadata": {},
     "output_type": "display_data"
    }
   ],
   "source": [
    "plt.text(0.05, 0.35, f\"Fact: There are currently {curr_city_most_recent_yr_mnth_openings} job\\n \\\n",
    "openings in {city} as compared to\\n \\\n",
    "{curr_city_previous_yr_mnth_openings} openings a year ago, \\n \\\n",
    "a change of {curr_city_openings_per_change}%\", size=16)\n",
    "\n",
    "plt.tick_params(axis='both', which='both', bottom='false', top='false', labelbottom='false', right='false', left='false', labelleft='false')"
   ]
  },
  {
   "cell_type": "code",
   "execution_count": 10,
   "metadata": {},
   "outputs": [],
   "source": [
    "# Create dataframe for average # of job openings in current city for each\n",
    "# quarter over last several quarters\n",
    "current_city_by_quarter_df = current_city_openings_df\n",
    "current_city_by_quarter_df = round(current_city_by_quarter_df.groupby(['Metro', 'yr_quarter']).mean(),0)\n",
    "current_city_by_quarter_df = current_city_by_quarter_df.drop(columns=[\"YoY\", \"mnth\", \"Quarter\", \"yr\", \"yr_mnth\"])\n",
    "curr_city_quart_count = len(current_city_by_quarter_df[\"Value\"])\n",
    "current_city_by_quarter_df = current_city_by_quarter_df[[\"Value\"]][curr_city_quart_count - 6 : curr_city_quart_count+1]\n",
    "current_city_by_quarter_df = current_city_by_quarter_df.reset_index()"
   ]
  },
  {
   "cell_type": "code",
   "execution_count": 11,
   "metadata": {},
   "outputs": [
    {
     "data": {
      "image/png": "[encoded data removed]",
      "text/plain": [
       "<Figure size 432x288 with 1 Axes>"
      ]
     },
     "metadata": {
      "needs_background": "light"
     },
     "output_type": "display_data"
    }
   ],
   "source": [
    "# Create a bar chart to display average quarterly job openings for given city\n",
    "city_quart_chart = current_city_by_quarter_df[\"Value\"].plot(kind=\"bar\", color=\"b\")\n",
    "city_quart_chart.set_xlabel(\"Quarter\")\n",
    "city_quart_chart.set_ylabel(\"Job Openings\")\n",
    "\n",
    "x_axis = np.arange(6)\n",
    "tick_locations = [value for value in x_axis]\n",
    "\n",
    "plt.title(f\"Quarterly Job Openings in {city}\")\n",
    "plt.xticks(tick_locations, current_city_by_quarter_df.iloc[:,1], rotation=\"horizontal\")\n",
    "plt.tight_layout()\n",
    "plt.show()"
   ]
  },
  {
   "cell_type": "code",
   "execution_count": 12,
   "metadata": {},
   "outputs": [],
   "source": [
    "# Based on input, provide job salary info for most recent year/month as well as year ago, and calculate trend\n",
    "current_city_job_df = glassdoor_q_df\n",
    "current_city_job_df = current_city_job_df[(current_city_job_df['Dimension Type']=='Job Title') & (current_city_job_df['Metro']==city) & (current_city_job_df['Dimension']==job)]\n",
    "current_city_job_df.head()\n",
    "\n",
    "\n",
    "curr_city_most_recent_yr_mnth_job_pay = current_city_job_df[(current_city_job_df['yr_mnth']==curr_city_most_recent_yr_mnth)].iloc[0,5].astype(\"int\")\n",
    "\n",
    "curr_city_previous_yr_mnth_job_pay = current_city_job_df[(current_city_job_df['yr_mnth']==curr_city_previous_yr_mnth)].iloc[0,5].astype(\"int\")\n",
    "\n",
    "curr_city_job_pay_per_change = round((curr_city_most_recent_yr_mnth_job_pay - curr_city_previous_yr_mnth_job_pay) / curr_city_previous_yr_mnth_job_pay * 100, 2)"
   ]
  },
  {
   "cell_type": "code",
   "execution_count": 13,
   "metadata": {},
   "outputs": [],
   "source": [
    "# Based on input, provide MEDIAN job salary info for OVERALL city for most recent year/month as well as year ago, and calculate trend\n",
    "# This is used for the person to compare to the specific job position's pay they searched for above\n",
    "current_city_avg_salary_df = glassdoor_q_df\n",
    "current_city_avg_salary_df = current_city_avg_salary_df[(current_city_avg_salary_df['Dimension Type']=='Timeseries') & (current_city_avg_salary_df['Metro']==city)]\n",
    "current_city_avg_salary_df.head()\n",
    "\n",
    "\n",
    "curr_city_most_recent_yr_mnth_avg_salary = current_city_avg_salary_df[(current_city_avg_salary_df['yr_mnth']==curr_city_most_recent_yr_mnth)].iloc[0,5].astype(\"int\")\n",
    "\n",
    "curr_city_previous_yr_mnth_avg_salary = current_city_avg_salary_df[(current_city_avg_salary_df['yr_mnth']==curr_city_previous_yr_mnth)].iloc[0,5].astype(\"int\")\n",
    "\n",
    "curr_city_avg_salary_per_change = round((curr_city_most_recent_yr_mnth_avg_salary - curr_city_previous_yr_mnth_avg_salary) / curr_city_previous_yr_mnth_avg_salary * 100, 2)\n",
    "\n",
    "job_searched_vs_city_median = (curr_city_most_recent_yr_mnth_job_pay / curr_city_most_recent_yr_mnth_avg_salary * 100).astype(\"int\")"
   ]
  },
  {
   "cell_type": "code",
   "execution_count": 14,
   "metadata": {},
   "outputs": [],
   "source": [
    "# Based on input, provide job salary info for most recent year/month as well as year ago, and calculate trend\n",
    "total_us_job_df = glassdoor_q_df\n",
    "total_us_job_df = total_us_job_df[(total_us_job_df['Dimension Type']=='Job Title') & (total_us_job_df['Metro']==\"National\") & (total_us_job_df['Dimension']==job)]\n",
    "total_us_job_df.head()\n",
    "\n",
    "\n",
    "total_us_most_recent_yr_mnth_job_pay = total_us_job_df[(total_us_job_df['yr_mnth']==curr_city_most_recent_yr_mnth)].iloc[0,5].astype(\"int\")\n",
    "\n",
    "total_us_previous_yr_mnth_job_pay = total_us_job_df[(total_us_job_df['yr_mnth']==curr_city_previous_yr_mnth)].iloc[0,5].astype(\"int\")\n",
    "\n",
    "total_us_job_pay_per_change = round((total_us_most_recent_yr_mnth_job_pay - total_us_previous_yr_mnth_job_pay) / total_us_previous_yr_mnth_job_pay * 100, 2)\n",
    "\n",
    "# print(\"---Analysis---\")\n",
    "# print(\"\")\n",
    "# print(f\"{job}s in {city} on average earn ${curr_city_most_recent_yr_mnth_job_pay} as compared to ${curr_city_previous_yr_mnth_job_pay} a year ago, a change of {curr_city_job_pay_per_change}%\")\n",
    "# print(\"\")\n",
    "# print(f\"The average salary in {city} is ${curr_city_most_recent_yr_mnth_avg_salary} which, compared to a year ago, is a change of {curr_city_avg_salary_per_change}%\")\n",
    "# print(\"\")\n",
    "# print(f\"The average {job} salary in the United States is ${total_us_most_recent_yr_mnth_job_pay} which, compared to a year ago, is a change of {total_us_job_pay_per_change}%\")\n",
    "# print(\"\")\n",
    "# print(f\"{city} {job}s earn {job_searched_vs_city_median}% of the average salary in {city}\")"
   ]
  },
  {
   "cell_type": "code",
   "execution_count": 15,
   "metadata": {},
   "outputs": [
    {
     "data": {
      "image/png": "[encoded data removed]",
      "text/plain": [
       "<Figure size 432x288 with 1 Axes>"
      ]
     },
     "metadata": {},
     "output_type": "display_data"
    }
   ],
   "source": [
    "plt.text(0.05, 0.15, f\"{job}s in {city} make a median of ${curr_city_most_recent_yr_mnth_job_pay}\\n \\\n",
    "as compared to ${curr_city_previous_yr_mnth_job_pay} a year ago, a change\\n \\\n",
    "of {curr_city_job_pay_per_change}%. \\n \\\n",
    "\\n \\\n",
    "The median salary in {city} is ${curr_city_most_recent_yr_mnth_avg_salary} which,\\n \\\n",
    "compared to a year ago, is a change of {curr_city_avg_salary_per_change}%. \\n \\\n",
    "\\n \\\n",
    "The median {job} salary in the United States\\n \\\n",
    "is ${total_us_most_recent_yr_mnth_job_pay} which,compared to a year ago,\\n \\\n",
    "is a change of {total_us_job_pay_per_change}%. \\n \\\n",
    "\\n \\\n",
    "{city} {job}s earn {job_searched_vs_city_median}% of the median\\n \\\n",
    "salary in {city}.\", size=10)\n",
    "\n",
    "plt.tick_params(axis='both', which='both', bottom='false', top='false', labelbottom='false', right='false', left='false', labelleft='false')"
   ]
  },
  {
   "cell_type": "code",
   "execution_count": 16,
   "metadata": {},
   "outputs": [],
   "source": [
    "# Create dataframe for average salary FOR GIVEN JOB in current city for each\n",
    "# quarter over last several quarters\n",
    "\n",
    "current_city_job_pay_by_quarter_df = current_city_job_df\n",
    "current_city_job_pay_by_quarter_df = round(current_city_job_pay_by_quarter_df.groupby(['yr_quarter']).mean()[\"Value\"],0).astype(\"int\")"
   ]
  },
  {
   "cell_type": "code",
   "execution_count": 17,
   "metadata": {},
   "outputs": [],
   "source": [
    "# Create dataframe for MEDIAN salary IN CURRENT CITY for each\n",
    "# quarter over last several quarters\n",
    "\n",
    "current_city_med_pay_by_quarter_df = current_city_avg_salary_df\n",
    "current_city_med_pay_by_quarter_df = round(current_city_med_pay_by_quarter_df.groupby(['yr_quarter']).mean()[\"Value\"],0).astype(\"int\")"
   ]
  },
  {
   "cell_type": "code",
   "execution_count": 18,
   "metadata": {},
   "outputs": [],
   "source": [
    "# Create dataframe for SPECIFIC JOB salary TOTAL US for each\n",
    "# quarter over last several quarters\n",
    "\n",
    "total_us_job_pay_by_quarter_df = total_us_job_df\n",
    "total_us_job_pay_by_quarter_df = round(total_us_job_pay_by_quarter_df.groupby(['yr_quarter']).mean()[\"Value\"],0).astype(\"int\")"
   ]
  },
  {
   "cell_type": "code",
   "execution_count": 19,
   "metadata": {},
   "outputs": [],
   "source": [
    "# Join last 3 groupby dataframes into one, create line graph to compare three groups over time\n",
    "merged = pd.DataFrame({f\"Avg {city} {job} Salary\": current_city_job_pay_by_quarter_df,\n",
    "                       f\"Median {city} Salary\": current_city_med_pay_by_quarter_df,\n",
    "                       f\"Avg Total US {job} Salary\": total_us_job_pay_by_quarter_df\n",
    "                      })\n",
    "merged = merged.reset_index()\n",
    "\n",
    "count = merged[\"yr_quarter\"].count()\n",
    "combined_last_six_quarters = merged\n",
    "combined_last_six_quarters = combined_last_six_quarters[count - 6 : count+1]\n",
    "combined_last_six_quarters = combined_last_six_quarters.set_index(\"yr_quarter\")"
   ]
  },
  {
   "cell_type": "code",
   "execution_count": 20,
   "metadata": {},
   "outputs": [],
   "source": [
    "city_job_to_plot = combined_last_six_quarters.iloc[:, 0]\n",
    "city_med_to_plot = combined_last_six_quarters.iloc[:, 1]\n",
    "us_job_to_plot = combined_last_six_quarters.iloc[:, 2]"
   ]
  },
  {
   "cell_type": "code",
   "execution_count": 21,
   "metadata": {},
   "outputs": [
    {
     "data": {
      "image/png": "[encoded data removed]",
      "text/plain": [
       "<Figure size 432x288 with 1 Axes>"
      ]
     },
     "metadata": {
      "needs_background": "light"
     },
     "output_type": "display_data"
    }
   ],
   "source": [
    "# Create a line chart to display avg salaries over last 6 quarters\n",
    "fig, ax = plt.subplots()\n",
    "\n",
    "x_axis = np.arange(6)\n",
    "\n",
    "ax.errorbar(x_axis, city_job_to_plot, label=f\"Median {city} {job} Salary\", marker=\"o\")\n",
    "ax.legend()\n",
    "\n",
    "ax.errorbar(x_axis, us_job_to_plot, label=f\"Median Total US {job} Salary\", marker=\"o\")\n",
    "ax.legend()\n",
    "\n",
    "ax.errorbar(x_axis, city_med_to_plot, label=f\"Median {city} Salary\", marker=\"o\")\n",
    "ax.legend()\n",
    "\n",
    "\n",
    "\n",
    "ax.set_title(f\"{city} vs. Total US Quarterly Average Salaries\")\n",
    "ax.set_xlabel(\"Quarter\")\n",
    "ax.set_ylabel(\"Salary\")\n",
    "tick_locations = [value for value in x_axis]\n",
    "ax.legend(loc=[0.05, 0.2], fontsize=\"small\", fancybox=True)\n",
    "\n",
    "plt.xticks(tick_locations, combined_last_six_quarters.index)\n",
    "\n",
    "plt.grid()\n",
    "plt.tight_layout()"
   ]
  },
  {
   "cell_type": "code",
   "execution_count": 22,
   "metadata": {},
   "outputs": [],
   "source": [
    "industry_pay_df = glassdoor_q_df\n",
    "industry_pay_df = industry_pay_df[(industry_pay_df['Dimension Type']=='Industry') & (industry_pay_df['Metro']==city) & (industry_pay_df['yr_mnth']==curr_city_most_recent_yr_mnth)]\n",
    "\n",
    "top_industry_pay_df = industry_pay_df.nlargest(5, \"Value\", keep='first')\n",
    "top_industry_pay_df = round(top_industry_pay_df.groupby(['Dimension']).mean()[\"Value\"],0).astype(\"int\")\n",
    "top_industry_pay_df = pd.DataFrame({\"Top 5 Industries\" : top_industry_pay_df})\n",
    "top_industry_pay_df = top_industry_pay_df.reset_index()\n",
    "top_industry_pay_df = top_industry_pay_df.sort_values(by=['Top 5 Industries'], ascending=False)\n",
    "\n",
    "\n",
    "bottom_industry_pay_df = industry_pay_df.nsmallest(5, \"Value\", keep='first')\n",
    "bottom_industry_pay_df = round(bottom_industry_pay_df.groupby(['Dimension']).mean()[\"Value\"],0).astype(\"int\")\n",
    "bottom_industry_pay_df = pd.DataFrame({\"Bottom 5 Industries\" : bottom_industry_pay_df})\n",
    "bottom_industry_pay_df = bottom_industry_pay_df.reset_index()\n",
    "bottom_industry_pay_df = bottom_industry_pay_df.sort_values(by=['Bottom 5 Industries'], ascending=True)"
   ]
  },
  {
   "cell_type": "code",
   "execution_count": 23,
   "metadata": {},
   "outputs": [],
   "source": [
    "# Creates list of labels for top 5 industries that wrap text for every 10 characters to fit\n",
    "top_ind_labels = top_industry_pay_df[\"Dimension\"]\n",
    "top_ind_labels = [ '\\n'.join(wrap(l, 10)) for l in top_ind_labels ]"
   ]
  },
  {
   "cell_type": "code",
   "execution_count": 24,
   "metadata": {},
   "outputs": [],
   "source": [
    "# Creates list of labels for bottom 5 industries that wrap text for every 10 characters to fit\n",
    "bottom_ind_labels = bottom_industry_pay_df[\"Dimension\"]\n",
    "bottom_ind_labels = [ '\\n'.join(wrap(l, 10)) for l in bottom_ind_labels ]"
   ]
  },
  {
   "cell_type": "code",
   "execution_count": 25,
   "metadata": {},
   "outputs": [
    {
     "data": {
      "image/png": "[encoded data removed]",
      "text/plain": [
       "<Figure size 432x288 with 1 Axes>"
      ]
     },
     "metadata": {
      "needs_background": "light"
     },
     "output_type": "display_data"
    }
   ],
   "source": [
    "# Create a bar chart to display top 5 industries by avg salary for given city\n",
    "city_top_industry_chart = top_industry_pay_df[\"Top 5 Industries\"].plot(kind=\"bar\", color=\"g\")\n",
    "city_top_industry_chart.set_xlabel(\"Top Industries\")\n",
    "city_top_industry_chart.set_ylabel(\"Median Salaries\")\n",
    "\n",
    "x_axis = np.arange(5)\n",
    "tick_locations = [value for value in x_axis]\n",
    "\n",
    "plt.title(f\"Top 5 {city} Industries by Median Salary\")\n",
    "plt.xticks(tick_locations, top_ind_labels, rotation=\"horizontal\")\n",
    "\n",
    "plt.ylim(max(top_industry_pay_df[\"Top 5 Industries\"]) * 0.6, max(top_industry_pay_df[\"Top 5 Industries\"]) * 1.05)\n",
    "plt.tight_layout()\n",
    "plt.show()"
   ]
  },
  {
   "cell_type": "code",
   "execution_count": 26,
   "metadata": {},
   "outputs": [
    {
     "data": {
      "image/png": "[encoded data removed]",
      "text/plain": [
       "<Figure size 432x288 with 1 Axes>"
      ]
     },
     "metadata": {
      "needs_background": "light"
     },
     "output_type": "display_data"
    }
   ],
   "source": [
    "# Create a bar chart to display bottom 5 industries by avg salary for given city\n",
    "city_bottom_industry_chart = bottom_industry_pay_df[\"Bottom 5 Industries\"].plot(kind=\"bar\", color=\"r\")\n",
    "city_bottom_industry_chart.set_xlabel(\"Bottom Industries\")\n",
    "city_bottom_industry_chart.set_ylabel(\"Median Salaries\")\n",
    "\n",
    "x_axis = np.arange(5)\n",
    "tick_locations = [value for value in x_axis]\n",
    "\n",
    "plt.title(f\"Bottom 5 {city} Industries by Median Salary\")\n",
    "plt.xticks(tick_locations, bottom_ind_labels, rotation=\"horizontal\")\n",
    "\n",
    "plt.ylim(max(bottom_industry_pay_df[\"Bottom 5 Industries\"]) * 0.6, max(bottom_industry_pay_df[\"Bottom 5 Industries\"]) * 1.05)\n",
    "plt.tight_layout()\n",
    "plt.show()"
   ]
  },
  {
   "cell_type": "code",
   "execution_count": 27,
   "metadata": {},
   "outputs": [],
   "source": [
    "# Calculate salary trend for every job in given city\n",
    "# Use to sort and find top/bottom 5 jobs in given city by increase/decrease of salary\n",
    "current_city_job_growth_df = glassdoor_q_df\n",
    "\n",
    "current_city_job_df = current_city_job_growth_df[(current_city_job_growth_df['yr_mnth']==curr_city_most_recent_yr_mnth) & (current_city_job_growth_df['Dimension Type']=='Job Title') & (current_city_job_growth_df['Metro']==city)]\n",
    "current_city_job_df = current_city_job_df.groupby(['Dimension']).mean()[\"Value\"].astype(\"int\")\n",
    "current_city_job_df = pd.concat([current_city_job_df], axis=1)\n",
    "\n",
    "\n",
    "previous_city_job_df = current_city_job_growth_df[(current_city_job_growth_df['yr_mnth']==curr_city_previous_yr_mnth) & (current_city_job_growth_df['Dimension Type']=='Job Title') & (current_city_job_growth_df['Metro']==city)]\n",
    "previous_city_job_df = previous_city_job_df.groupby(['Dimension']).mean()[\"Value\"].astype(\"int\")\n",
    "previous_city_job_df = pd.concat([previous_city_job_df], axis=1)\n",
    "\n",
    "merged_curr_prev_salary = pd.merge(previous_city_job_df, current_city_job_df, how=\"left\", on=[\"Dimension\"])\n",
    "merged_curr_prev_salary[\"% Change\"] = (merged_curr_prev_salary[\"Value_y\"] - merged_curr_prev_salary[\"Value_x\"]) / merged_curr_prev_salary[\"Value_x\"] * 100\n",
    "\n",
    "bottom_curr_prev_salary = merged_curr_prev_salary.nsmallest(5, \"% Change\", keep='first')\n",
    "bottom_curr_prev_salary = bottom_curr_prev_salary.reset_index()\n",
    "bottom_curr_prev_salary = bottom_curr_prev_salary.sort_values(by=['% Change'], ascending=True)\n",
    "# bottom_curr_prev_salary\n",
    "\n",
    "top_curr_prev_salary = merged_curr_prev_salary.nlargest(5, \"% Change\", keep='first')\n",
    "top_curr_prev_salary = top_curr_prev_salary.reset_index()\n",
    "top_curr_prev_salary = top_curr_prev_salary.sort_values(by=['% Change'], ascending=False)"
   ]
  },
  {
   "cell_type": "code",
   "execution_count": 28,
   "metadata": {},
   "outputs": [],
   "source": [
    "# Creates list of labels for top 5 industries that wrap text for every 10 characters to fit\n",
    "top_sal_growth_labels = top_curr_prev_salary[\"Dimension\"]\n",
    "top_sal_growth_labels = [ '\\n'.join(wrap(l, 10)) for l in top_sal_growth_labels ]"
   ]
  },
  {
   "cell_type": "code",
   "execution_count": 29,
   "metadata": {},
   "outputs": [],
   "source": [
    "# Creates list of labels for bottom 5 industries that wrap text for every 10 characters to fit\n",
    "bottom_sal_growth_labels = bottom_curr_prev_salary[\"Dimension\"]\n",
    "bottom_sal_growth_labels = [ '\\n'.join(wrap(l, 10)) for l in bottom_sal_growth_labels ]"
   ]
  },
  {
   "cell_type": "code",
   "execution_count": 30,
   "metadata": {},
   "outputs": [
    {
     "data": {
      "image/png": "[encoded data removed]",
      "text/plain": [
       "<Figure size 432x288 with 1 Axes>"
      ]
     },
     "metadata": {
      "needs_background": "light"
     },
     "output_type": "display_data"
    }
   ],
   "source": [
    "# Create a bar chart to display top 5 jobs by % salary increase for given city\n",
    "job_sal_growth_chart = top_curr_prev_salary[\"% Change\"].plot(kind=\"bar\", color=\"g\")\n",
    "job_sal_growth_chart.set_xlabel(\"Top Growth Salaries\")\n",
    "job_sal_growth_chart.set_ylabel(\"% Salary Growth\")\n",
    "\n",
    "x_axis = np.arange(5)\n",
    "tick_locations = [value for value in x_axis]\n",
    "\n",
    "plt.title(f\"Top 5 Jobs in {city} by % Salary Growth\")\n",
    "plt.xticks(tick_locations, top_sal_growth_labels, rotation=\"horizontal\")\n",
    "\n",
    "plt.ylim(max(top_curr_prev_salary[\"% Change\"]) * 0.6, max(top_curr_prev_salary[\"% Change\"]) * 1.05)\n",
    "plt.tight_layout()\n",
    "plt.show()"
   ]
  },
  {
   "cell_type": "code",
   "execution_count": 31,
   "metadata": {},
   "outputs": [
    {
     "data": {
      "image/png": "[encoded data removed]",
      "text/plain": [
       "<Figure size 432x288 with 1 Axes>"
      ]
     },
     "metadata": {
      "needs_background": "light"
     },
     "output_type": "display_data"
    }
   ],
   "source": [
    "# Create a bar chart to display bottom 5 jobs by % salary decrease for given city\n",
    "job_sal_decline_chart = bottom_curr_prev_salary[\"% Change\"].plot(kind=\"bar\", color=\"r\")\n",
    "job_sal_decline_chart.set_xlabel(\"Top Declining Salaries\")\n",
    "job_sal_decline_chart.set_ylabel(\"% Salary Growth\")\n",
    "\n",
    "x_axis = np.arange(5)\n",
    "tick_locations = [value for value in x_axis]\n",
    "\n",
    "plt.title(f\"Top 5 Jobs in {city} by % Salary Decline\")\n",
    "plt.xticks(tick_locations, bottom_sal_growth_labels, rotation=\"horizontal\")\n",
    "\n",
    "# plt.ylim(max(bottom_curr_prev_salary[\"% Change\"]) * 0.6, max(bottom_curr_prev_salary[\"% Change\"]) * 1.05)\n",
    "plt.tight_layout()\n",
    "plt.show()"
   ]
  },
  {
   "cell_type": "code",
   "execution_count": 32,
   "metadata": {},
   "outputs": [],
   "source": [
    "company_size_df = glassdoor_q_df\n",
    "company_size_df = company_size_df[(company_size_df['Dimension Type']=='Company Size') & (company_size_df['Metro']==city) & (company_size_df['yr_mnth']==curr_city_most_recent_yr_mnth)]\n",
    "company_size_df = round(company_size_df.groupby(['Dimension']).mean()[\"Value\"],0).astype(\"int\")\n",
    "company_size_df = pd.DataFrame({\"Company Size\" : company_size_df})"
   ]
  },
  {
   "cell_type": "code",
   "execution_count": 33,
   "metadata": {},
   "outputs": [],
   "source": [
    "company_size_order_df = pd.DataFrame({\n",
    "    \"Dimension\" : [\"<51\", \"51-200\", \"201-500\", \"501-1000\", \"1001-5000\", \"5000+\"],\n",
    "    \"Order\" : [1, 2, 3, 4, 5, 6]\n",
    "})\n",
    "company_size_order_df = company_size_order_df.set_index(\"Dimension\")"
   ]
  },
  {
   "cell_type": "code",
   "execution_count": 34,
   "metadata": {},
   "outputs": [],
   "source": [
    "merged_company_size = pd.merge(company_size_df, company_size_order_df, how=\"left\", on=[\"Dimension\"])\n",
    "merged_company_size = merged_company_size.reset_index()\n",
    "merged_company_size = merged_company_size.set_index(\"Order\")\n",
    "merged_company_size = merged_company_size.sort_values(by=['Order'], ascending=True)"
   ]
  },
  {
   "cell_type": "code",
   "execution_count": 35,
   "metadata": {},
   "outputs": [
    {
     "data": {
      "image/png": "[encoded data removed]",
      "text/plain": [
       "<Figure size 432x288 with 1 Axes>"
      ]
     },
     "metadata": {
      "needs_background": "light"
     },
     "output_type": "display_data"
    }
   ],
   "source": [
    "# Create a bar chart to display average salary by company size for given city\n",
    "city_comp_size_chart = merged_company_size[\"Company Size\"].plot(kind=\"bar\", color=\"b\")\n",
    "city_comp_size_chart.set_xlabel(\"Size of Company\")\n",
    "city_comp_size_chart.set_ylabel(\"Median Salary\")\n",
    "\n",
    "x_axis = np.arange(6)\n",
    "tick_locations = [value for value in x_axis]\n",
    "\n",
    "plt.title(f\"Median {city} Salary by Company Size\")\n",
    "plt.xticks(tick_locations, merged_company_size.iloc[:,0], rotation=\"horizontal\")\n",
    "\n",
    "plt.ylim(max(merged_company_size[\"Company Size\"]) * 0.6, max(merged_company_size[\"Company Size\"]) * 1.05)\n",
    "plt.tight_layout()\n",
    "plt.show()"
   ]
  },
  {
   "cell_type": "code",
   "execution_count": null,
   "metadata": {},
   "outputs": [],
   "source": []
  }
 ],
 "metadata": {
  "kernelspec": {
   "display_name": "Python 3",
   "language": "python",
   "name": "python3"
  },
  "language_info": {
   "codemirror_mode": {
    "name": "ipython",
    "version": 3
   },
   "file_extension": ".py",
   "mimetype": "text/x-python",
   "name": "python",
   "nbconvert_exporter": "python",
   "pygments_lexer": "ipython3",
   "version": "3.7.1"
  }
 },
 "nbformat": 4,
 "nbformat_minor": 2
}
