{
 "cells": [
  {
   "cell_type": "code",
   "execution_count": 7,
   "metadata": {},
   "outputs": [],
   "source": [
    "%matplotlib notebook"
   ]
  },
  {
   "cell_type": "code",
   "execution_count": 8,
   "metadata": {},
   "outputs": [],
   "source": [
    "import os\n",
    "import csv\n",
    "import matplotlib.pyplot as plt\n",
    "import pandas as pd\n",
    "import numpy as np"
   ]
  },
  {
   "cell_type": "code",
   "execution_count": 9,
   "metadata": {},
   "outputs": [],
   "source": [
    "# Take in Glassdoor data and read it into pandas\n",
    "glassdoor_62017 = \"Resources/LPR_data-2017-06.csv\"\n",
    "glassdoor_72017 = \"Resources/LPR_data-2017-07.csv\"\n",
    "glassdoor_82017 = \"Resources/LPR_data-2017-08.csv\"\n",
    "glassdoor_92017 = \"Resources/LPR_data-2017-09.csv\"\n",
    "glassdoor_102017 = \"Resources/LPR_data-2017-10.csv\"\n",
    "glassdoor_112017 = \"Resources/LPR_data-2017-11.csv\"\n",
    "glassdoor_122017 = \"Resources/LPR_data-2017-12.csv\"\n",
    "\n",
    "glassdoor_12018 = \"Resources/LPR_data-2018-01.csv\"\n",
    "glassdoor_22018 = \"Resources/LPR_data-2018-02.csv\"\n",
    "glassdoor_32018 = \"Resources/LPR_data-2018-03.csv\"\n",
    "glassdoor_42018 = \"Resources/LPR_data-2018-04.csv\"\n",
    "glassdoor_52018 = \"Resources/LPR_data-2018-05.csv\"\n",
    "glassdoor_62018 = \"Resources/LPR_data-2018-06.csv\"\n",
    "glassdoor_72018 = \"Resources/LPR_data-2018-07.csv\"\n",
    "glassdoor_82018 = \"Resources/LPR_data-2018-08.csv\"\n",
    "glassdoor_92018 = \"Resources/LPR_data-2018-09.csv\"\n",
    "glassdoor_102018 = \"Resources/LPR_data-2018-10.csv\"\n",
    "glassdoor_112018 = \"Resources/LPR_data-2018-11.csv\"\n",
    "glassdoor_122018 = \"Resources/LPR_data-2018-12.csv\"\n",
    "\n",
    "glassdoor_12019 = \"Resources/LPR_data-2019-01.csv\"\n",
    "glassdoor_22019 = \"Resources/LPR_data-2019-02.csv\"\n",
    "\n",
    "#created a dataframe for each csv file\n",
    "glassdoor_62017_df = pd.read_csv(glassdoor_62017, encoding=\"utf-8\")\n",
    "glassdoor_72017_df = pd.read_csv(glassdoor_72017,encoding=\"utf-8\")\n",
    "glassdoor_82017_df = pd.read_csv(glassdoor_82017,encoding=\"utf-8\")\n",
    "glassdoor_92017_df = pd.read_csv(glassdoor_92017,encoding=\"utf-8\")\n",
    "glassdoor_102017_df = pd.read_csv(glassdoor_102017,encoding=\"utf-8\")\n",
    "glassdoor_112017_df = pd.read_csv(glassdoor_112017,encoding=\"utf-8\")\n",
    "glassdoor_122017_df = pd.read_csv(glassdoor_122017,encoding=\"utf-8\")\n",
    "glassdoor_12018_df = pd.read_csv(glassdoor_12018,encoding=\"utf-8\")\n",
    "glassdoor_22018_df = pd.read_csv(glassdoor_22018,encoding=\"utf-8\")\n",
    "glassdoor_32018_df = pd.read_csv(glassdoor_32018,encoding=\"utf-8\")\n",
    "glassdoor_42018_df = pd.read_csv(glassdoor_42018,encoding=\"utf-8\")\n",
    "glassdoor_52018_df = pd.read_csv(glassdoor_52018,encoding=\"utf-8\")\n",
    "glassdoor_62018_df = pd.read_csv(glassdoor_62018,encoding=\"utf-8\")\n",
    "glassdoor_72018_df = pd.read_csv(glassdoor_72018,encoding=\"utf-8\")\n",
    "glassdoor_82018_df = pd.read_csv(glassdoor_82018,encoding=\"utf-8\")\n",
    "glassdoor_92018_df = pd.read_csv(glassdoor_92018,encoding=\"utf-8\")\n",
    "glassdoor_102018_df = pd.read_csv(glassdoor_102018,encoding=\"utf-8\")\n",
    "glassdoor_112018_df = pd.read_csv(glassdoor_112018,encoding=\"utf-8\")\n",
    "glassdoor_122018_df = pd.read_csv(glassdoor_122018,encoding=\"utf-8\")\n",
    "glassdoor_12019_df = pd.read_csv(glassdoor_12019,encoding=\"utf-8\")\n",
    "glassdoor_22019_df = pd.read_csv(glassdoor_22019,encoding=\"utf-8\")\n"
   ]
  },
  {
   "cell_type": "code",
   "execution_count": 10,
   "metadata": {},
   "outputs": [],
   "source": [
    "#created massive data frame\n",
    "glassdoor_df = glassdoor_62017_df.append([glassdoor_72017_df,glassdoor_82017_df,glassdoor_92017_df,glassdoor_102017_df,glassdoor_112017_df,glassdoor_122017_df,glassdoor_12018_df,glassdoor_22018_df,glassdoor_32018_df,glassdoor_42018_df,glassdoor_52018_df,glassdoor_62018_df,glassdoor_72018_df,glassdoor_82018_df,glassdoor_92018_df,glassdoor_102018_df,glassdoor_112018_df,glassdoor_122018_df,glassdoor_12019_df,glassdoor_22019_df])"
   ]
  },
  {
   "cell_type": "code",
   "execution_count": 11,
   "metadata": {},
   "outputs": [
    {
     "data": {
      "text/html": [
       "<div>\n",
       "<style scoped>\n",
       "    .dataframe tbody tr th:only-of-type {\n",
       "        vertical-align: middle;\n",
       "    }\n",
       "\n",
       "    .dataframe tbody tr th {\n",
       "        vertical-align: top;\n",
       "    }\n",
       "\n",
       "    .dataframe thead th {\n",
       "        text-align: right;\n",
       "    }\n",
       "</style>\n",
       "<table border=\"1\" class=\"dataframe\">\n",
       "  <thead>\n",
       "    <tr style=\"text-align: right;\">\n",
       "      <th></th>\n",
       "      <th>Metro</th>\n",
       "      <th>Dimension Type</th>\n",
       "      <th>Month</th>\n",
       "      <th>Dimension</th>\n",
       "      <th>Measure</th>\n",
       "      <th>Value</th>\n",
       "      <th>YoY</th>\n",
       "      <th>mnth</th>\n",
       "      <th>yr</th>\n",
       "    </tr>\n",
       "  </thead>\n",
       "  <tbody>\n",
       "    <tr>\n",
       "      <th>0</th>\n",
       "      <td>National</td>\n",
       "      <td>Quick Facts</td>\n",
       "      <td>2017-06</td>\n",
       "      <td>U.S. Median Pay</td>\n",
       "      <td>U.S. Median Pay</td>\n",
       "      <td>51324.0</td>\n",
       "      <td>0.017</td>\n",
       "      <td>6</td>\n",
       "      <td>2017</td>\n",
       "    </tr>\n",
       "    <tr>\n",
       "      <th>1</th>\n",
       "      <td>Atlanta</td>\n",
       "      <td>Quick Facts</td>\n",
       "      <td>2017-06</td>\n",
       "      <td>Metro Median Pay</td>\n",
       "      <td>Metro Median Pay</td>\n",
       "      <td>52763.0</td>\n",
       "      <td>0.009</td>\n",
       "      <td>6</td>\n",
       "      <td>2017</td>\n",
       "    </tr>\n",
       "    <tr>\n",
       "      <th>2</th>\n",
       "      <td>Atlanta</td>\n",
       "      <td>Quick Facts</td>\n",
       "      <td>2017-06</td>\n",
       "      <td>U.S. Median Pay</td>\n",
       "      <td>U.S. Median Pay</td>\n",
       "      <td>51324.0</td>\n",
       "      <td>0.017</td>\n",
       "      <td>6</td>\n",
       "      <td>2017</td>\n",
       "    </tr>\n",
       "    <tr>\n",
       "      <th>3</th>\n",
       "      <td>Atlanta</td>\n",
       "      <td>Quick Facts</td>\n",
       "      <td>2017-06</td>\n",
       "      <td>Job Openings</td>\n",
       "      <td>Job Openings</td>\n",
       "      <td>103189.0</td>\n",
       "      <td>0.119</td>\n",
       "      <td>6</td>\n",
       "      <td>2017</td>\n",
       "    </tr>\n",
       "    <tr>\n",
       "      <th>4</th>\n",
       "      <td>Atlanta</td>\n",
       "      <td>Quick Facts</td>\n",
       "      <td>2017-04</td>\n",
       "      <td>Labor Force Size</td>\n",
       "      <td>Labor Force Size</td>\n",
       "      <td>3008943.0</td>\n",
       "      <td>0.033</td>\n",
       "      <td>4</td>\n",
       "      <td>2017</td>\n",
       "    </tr>\n",
       "  </tbody>\n",
       "</table>\n",
       "</div>"
      ],
      "text/plain": [
       "      Metro Dimension Type    Month         Dimension           Measure  \\\n",
       "0  National    Quick Facts  2017-06   U.S. Median Pay   U.S. Median Pay   \n",
       "1   Atlanta    Quick Facts  2017-06  Metro Median Pay  Metro Median Pay   \n",
       "2   Atlanta    Quick Facts  2017-06   U.S. Median Pay   U.S. Median Pay   \n",
       "3   Atlanta    Quick Facts  2017-06      Job Openings      Job Openings   \n",
       "4   Atlanta    Quick Facts  2017-04  Labor Force Size  Labor Force Size   \n",
       "\n",
       "       Value    YoY  mnth    yr  \n",
       "0    51324.0  0.017     6  2017  \n",
       "1    52763.0  0.009     6  2017  \n",
       "2    51324.0  0.017     6  2017  \n",
       "3   103189.0  0.119     6  2017  \n",
       "4  3008943.0  0.033     4  2017  "
      ]
     },
     "execution_count": 11,
     "metadata": {},
     "output_type": "execute_result"
    }
   ],
   "source": [
    "#create month and yr int columns\n",
    "glassdoor_df[\"mnth\"]=glassdoor_df[\"Month\"].str.split('-', expand=False).str[1].astype(str).astype(int)\n",
    "glassdoor_df[\"yr\"]=glassdoor_df[\"Month\"].str.split('-', expand=False).str[0].astype(str).astype(int)\n",
    "# df['Col2'] = df['Col1'].str.split('_').str[1]\n",
    "glassdoor_df.head()"
   ]
  },
  {
   "cell_type": "code",
   "execution_count": 12,
   "metadata": {},
   "outputs": [],
   "source": [
    "#consider creating a csv file with the above information\n",
    "#glassdoor_df.to_csv(\"./glassdoor_data.csv\", encoding=\"utf-8\", index=True, header=True)"
   ]
  },
  {
   "cell_type": "code",
   "execution_count": 13,
   "metadata": {},
   "outputs": [
    {
     "data": {
      "text/plain": [
       "numpy.int32"
      ]
     },
     "execution_count": 13,
     "metadata": {},
     "output_type": "execute_result"
    }
   ],
   "source": [
    "type(glassdoor_df.iloc[1,7])"
   ]
  },
  {
   "cell_type": "code",
   "execution_count": 14,
   "metadata": {},
   "outputs": [
    {
     "data": {
      "text/plain": [
       "array(['Quick Facts', 'Job Title', 'Company Size', 'Industry',\n",
       "       'Timeseries'], dtype=object)"
      ]
     },
     "execution_count": 14,
     "metadata": {},
     "output_type": "execute_result"
    }
   ],
   "source": [
    "glassdoor_df['Dimension Type'].unique()"
   ]
  },
  {
   "cell_type": "code",
   "execution_count": 15,
   "metadata": {},
   "outputs": [
    {
     "data": {
      "text/plain": [
       "array(['National', 'Atlanta', 'New York City', 'Los Angeles',\n",
       "       'Philadelphia', 'Houston', 'Seattle', 'San Francisco', 'Chicago',\n",
       "       'Boston', 'Washington DC', 'New-York-City', 'Los-Angeles',\n",
       "       'San-Francisco', 'Washington-DC', 'U.S.'], dtype=object)"
      ]
     },
     "execution_count": 15,
     "metadata": {},
     "output_type": "execute_result"
    }
   ],
   "source": [
    "glassdoor_df['Metro'].unique()"
   ]
  },
  {
   "cell_type": "code",
   "execution_count": 16,
   "metadata": {},
   "outputs": [],
   "source": [
    "# Split massive dataframe into separate dataframes for:\n",
    "# Job Title\n",
    "# Company Size\n",
    "# Industry\n",
    "# Timeseries\n",
    "# Quick Facts\n",
    "glassdoor_job_title = glassdoor_df[glassdoor_df['Dimension Type']=='Job Title']\n",
    "glassdoor_company_size = glassdoor_df[glassdoor_df['Dimension Type']=='Company Size']\n",
    "glassdoor_industry = glassdoor_df[glassdoor_df['Dimension Type']=='Industry']\n",
    "glassdoor_timeseries = glassdoor_df[glassdoor_df['Dimension Type']=='Timeseries']\n",
    "glassdoor_quick_facts = glassdoor_df[glassdoor_df['Dimension Type']=='Quick Facts']"
   ]
  },
  {
   "cell_type": "code",
   "execution_count": 29,
   "metadata": {},
   "outputs": [
    {
     "data": {
      "text/html": [
       "<div>\n",
       "<style scoped>\n",
       "    .dataframe tbody tr th:only-of-type {\n",
       "        vertical-align: middle;\n",
       "    }\n",
       "\n",
       "    .dataframe tbody tr th {\n",
       "        vertical-align: top;\n",
       "    }\n",
       "\n",
       "    .dataframe thead th {\n",
       "        text-align: right;\n",
       "    }\n",
       "</style>\n",
       "<table border=\"1\" class=\"dataframe\">\n",
       "  <thead>\n",
       "    <tr style=\"text-align: right;\">\n",
       "      <th></th>\n",
       "      <th>Metro</th>\n",
       "      <th>Dimension Type</th>\n",
       "      <th>Month</th>\n",
       "      <th>Dimension</th>\n",
       "      <th>Measure</th>\n",
       "      <th>Value</th>\n",
       "      <th>YoY</th>\n",
       "      <th>mnth</th>\n",
       "      <th>yr</th>\n",
       "    </tr>\n",
       "  </thead>\n",
       "  <tbody>\n",
       "    <tr>\n",
       "      <th>0</th>\n",
       "      <td>National</td>\n",
       "      <td>Job Title</td>\n",
       "      <td>2017-06</td>\n",
       "      <td>Software Engineer</td>\n",
       "      <td>Median Base Pay</td>\n",
       "      <td>85880.0</td>\n",
       "      <td>0.028</td>\n",
       "      <td>6</td>\n",
       "      <td>2017</td>\n",
       "    </tr>\n",
       "    <tr>\n",
       "      <th>1</th>\n",
       "      <td>National</td>\n",
       "      <td>Job Title</td>\n",
       "      <td>2017-06</td>\n",
       "      <td>Programmer Analyst</td>\n",
       "      <td>Median Base Pay</td>\n",
       "      <td>67889.0</td>\n",
       "      <td>0.026</td>\n",
       "      <td>6</td>\n",
       "      <td>2017</td>\n",
       "    </tr>\n",
       "    <tr>\n",
       "      <th>2</th>\n",
       "      <td>National</td>\n",
       "      <td>Job Title</td>\n",
       "      <td>2017-06</td>\n",
       "      <td>Consultant</td>\n",
       "      <td>Median Base Pay</td>\n",
       "      <td>71306.0</td>\n",
       "      <td>0.006</td>\n",
       "      <td>6</td>\n",
       "      <td>2017</td>\n",
       "    </tr>\n",
       "    <tr>\n",
       "      <th>3</th>\n",
       "      <td>National</td>\n",
       "      <td>Job Title</td>\n",
       "      <td>2017-06</td>\n",
       "      <td>Project Manager</td>\n",
       "      <td>Median Base Pay</td>\n",
       "      <td>72571.0</td>\n",
       "      <td>0.004</td>\n",
       "      <td>6</td>\n",
       "      <td>2017</td>\n",
       "    </tr>\n",
       "    <tr>\n",
       "      <th>4</th>\n",
       "      <td>National</td>\n",
       "      <td>Job Title</td>\n",
       "      <td>2017-06</td>\n",
       "      <td>Store Manager</td>\n",
       "      <td>Median Base Pay</td>\n",
       "      <td>48199.0</td>\n",
       "      <td>0.028</td>\n",
       "      <td>6</td>\n",
       "      <td>2017</td>\n",
       "    </tr>\n",
       "  </tbody>\n",
       "</table>\n",
       "</div>"
      ],
      "text/plain": [
       "      Metro Dimension Type    Month           Dimension          Measure  \\\n",
       "0  National      Job Title  2017-06   Software Engineer  Median Base Pay   \n",
       "1  National      Job Title  2017-06  Programmer Analyst  Median Base Pay   \n",
       "2  National      Job Title  2017-06          Consultant  Median Base Pay   \n",
       "3  National      Job Title  2017-06     Project Manager  Median Base Pay   \n",
       "4  National      Job Title  2017-06       Store Manager  Median Base Pay   \n",
       "\n",
       "     Value    YoY  mnth    yr  \n",
       "0  85880.0  0.028     6  2017  \n",
       "1  67889.0  0.026     6  2017  \n",
       "2  71306.0  0.006     6  2017  \n",
       "3  72571.0  0.004     6  2017  \n",
       "4  48199.0  0.028     6  2017  "
      ]
     },
     "execution_count": 29,
     "metadata": {},
     "output_type": "execute_result"
    }
   ],
   "source": [
    "glassdoor_job_title.reset_index(drop=True,inplace=True)\n",
    "glassdoor_job_title.to_csv(\"Resources/glassdoor_job_title_data.csv\", encoding=\"utf-8\", index=False, header=True)\n",
    "glassdoor_job_title.head()"
   ]
  },
  {
   "cell_type": "code",
   "execution_count": 30,
   "metadata": {},
   "outputs": [],
   "source": [
    "glassdoor_company_size.reset_index(drop=True,inplace=True)\n",
    "glassdoor_company_size.to_csv(\"Resources/glassdoor_company_size.csv\", encoding=\"utf-8\", index=False, header=True)"
   ]
  },
  {
   "cell_type": "code",
   "execution_count": 31,
   "metadata": {},
   "outputs": [],
   "source": [
    "glassdoor_industry.reset_index(drop=True,inplace=True)\n",
    "glassdoor_industry.to_csv(\"Resources/glassdoor_industry.csv\", encoding=\"utf-8\", index=False, header=True)"
   ]
  },
  {
   "cell_type": "code",
   "execution_count": 32,
   "metadata": {},
   "outputs": [],
   "source": [
    "glassdoor_timeseries.reset_index(drop=True,inplace=True)\n",
    "glassdoor_timeseries.to_csv(\"Resources/glassdoor_timeseries.csv\", encoding=\"utf-8\", index=False, header=True)"
   ]
  },
  {
   "cell_type": "code",
   "execution_count": 33,
   "metadata": {},
   "outputs": [],
   "source": [
    "glassdoor_quick_facts.reset_index(drop=True,inplace=True)\n",
    "glassdoor_quick_facts.to_csv(\"Resources/glassdoor_quick_facts.csv\", encoding=\"utf-8\", index=False, header=True)"
   ]
  },
  {
   "cell_type": "code",
   "execution_count": null,
   "metadata": {},
   "outputs": [],
   "source": []
  }
 ],
 "metadata": {
  "kernelspec": {
   "display_name": "Python 3",
   "language": "python",
   "name": "python3"
  },
  "language_info": {
   "codemirror_mode": {
    "name": "ipython",
    "version": 3
   },
   "file_extension": ".py",
   "mimetype": "text/x-python",
   "name": "python",
   "nbconvert_exporter": "python",
   "pygments_lexer": "ipython3",
   "version": "3.7.1"
  }
 },
 "nbformat": 4,
 "nbformat_minor": 2
}
