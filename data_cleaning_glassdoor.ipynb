{
 "cells": [
  {
   "cell_type": "code",
   "execution_count": 25,
   "metadata": {},
   "outputs": [],
   "source": [
    "%matplotlib notebook"
   ]
  },
  {
   "cell_type": "code",
   "execution_count": 26,
   "metadata": {},
   "outputs": [],
   "source": [
    "import os\n",
    "import csv\n",
    "import matplotlib.pyplot as plt\n",
    "import pandas as pd\n",
    "import numpy as np"
   ]
  },
  {
   "cell_type": "code",
   "execution_count": 27,
   "metadata": {},
   "outputs": [],
   "source": [
    "# Take in Glassdoor data and read it into pandas\n",
    "glassdoor_62017 = \"Resources/LPR_data-2017-06.csv\"\n",
    "glassdoor_72017 = \"Resources/LPR_data-2017-07.csv\"\n",
    "glassdoor_82017 = \"Resources/LPR_data-2017-08.csv\"\n",
    "glassdoor_92017 = \"Resources/LPR_data-2017-09.csv\"\n",
    "glassdoor_102017 = \"Resources/LPR_data-2017-10.csv\"\n",
    "glassdoor_112017 = \"Resources/LPR_data-2017-11.csv\"\n",
    "glassdoor_122017 = \"Resources/LPR_data-2017-12.csv\"\n",
    "\n",
    "glassdoor_12018 = \"Resources/LPR_data-2018-01.csv\"\n",
    "glassdoor_22018 = \"Resources/LPR_data-2018-02.csv\"\n",
    "glassdoor_32018 = \"Resources/LPR_data-2018-03.csv\"\n",
    "glassdoor_42018 = \"Resources/LPR_data-2018-04.csv\"\n",
    "glassdoor_52018 = \"Resources/LPR_data-2018-05.csv\"\n",
    "glassdoor_62018 = \"Resources/LPR_data-2018-06.csv\"\n",
    "glassdoor_72018 = \"Resources/LPR_data-2018-07.csv\"\n",
    "glassdoor_82018 = \"Resources/LPR_data-2018-08.csv\"\n",
    "glassdoor_92018 = \"Resources/LPR_data-2018-09.csv\"\n",
    "glassdoor_102018 = \"Resources/LPR_data-2018-10.csv\"\n",
    "glassdoor_112018 = \"Resources/LPR_data-2018-11.csv\"\n",
    "glassdoor_122018 = \"Resources/LPR_data-2018-12.csv\"\n",
    "\n",
    "glassdoor_12019 = \"Resources/LPR_data-2019-01.csv\"\n",
    "glassdoor_22019 = \"Resources/LPR_data-2019-02.csv\"\n",
    "\n",
    "#created a dataframe for each csv file\n",
    "glassdoor_62017_df = pd.read_csv(glassdoor_62017, encoding=\"utf-8\")\n",
    "glassdoor_72017_df = pd.read_csv(glassdoor_72017,encoding=\"utf-8\")\n",
    "glassdoor_82017_df = pd.read_csv(glassdoor_82017,encoding=\"utf-8\")\n",
    "glassdoor_92017_df = pd.read_csv(glassdoor_92017,encoding=\"utf-8\")\n",
    "glassdoor_102017_df = pd.read_csv(glassdoor_102017,encoding=\"utf-8\")\n",
    "glassdoor_112017_df = pd.read_csv(glassdoor_112017,encoding=\"utf-8\")\n",
    "glassdoor_122017_df = pd.read_csv(glassdoor_122017,encoding=\"utf-8\")\n",
    "glassdoor_12018_df = pd.read_csv(glassdoor_12018,encoding=\"utf-8\")\n",
    "glassdoor_22018_df = pd.read_csv(glassdoor_22018,encoding=\"utf-8\")\n",
    "glassdoor_32018_df = pd.read_csv(glassdoor_32018,encoding=\"utf-8\")\n",
    "glassdoor_42018_df = pd.read_csv(glassdoor_42018,encoding=\"utf-8\")\n",
    "glassdoor_52018_df = pd.read_csv(glassdoor_52018,encoding=\"utf-8\")\n",
    "glassdoor_62018_df = pd.read_csv(glassdoor_62018,encoding=\"utf-8\")\n",
    "glassdoor_72018_df = pd.read_csv(glassdoor_72018,encoding=\"utf-8\")\n",
    "glassdoor_82018_df = pd.read_csv(glassdoor_82018,encoding=\"utf-8\")\n",
    "glassdoor_92018_df = pd.read_csv(glassdoor_92018,encoding=\"utf-8\")\n",
    "glassdoor_102018_df = pd.read_csv(glassdoor_102018,encoding=\"utf-8\")\n",
    "glassdoor_112018_df = pd.read_csv(glassdoor_112018,encoding=\"utf-8\")\n",
    "glassdoor_122018_df = pd.read_csv(glassdoor_122018,encoding=\"utf-8\")\n",
    "glassdoor_12019_df = pd.read_csv(glassdoor_12019,encoding=\"utf-8\")\n",
    "glassdoor_22019_df = pd.read_csv(glassdoor_22019,encoding=\"utf-8\")\n"
   ]
  },
  {
   "cell_type": "code",
   "execution_count": 28,
   "metadata": {},
   "outputs": [],
   "source": [
    "#created massive data frame\n",
    "glassdoor_df = glassdoor_62017_df.append([glassdoor_72017_df,glassdoor_82017_df,glassdoor_92017_df,glassdoor_102017_df,glassdoor_112017_df,glassdoor_122017_df,glassdoor_12018_df,glassdoor_22018_df,glassdoor_32018_df,glassdoor_42018_df,glassdoor_52018_df,glassdoor_62018_df,glassdoor_72018_df,glassdoor_82018_df,glassdoor_92018_df,glassdoor_102018_df,glassdoor_112018_df,glassdoor_122018_df,glassdoor_12019_df,glassdoor_22019_df])"
   ]
  },
  {
   "cell_type": "code",
   "execution_count": 29,
   "metadata": {},
   "outputs": [],
   "source": [
    "# Split massive dataframe into separate dataframes by information in the column \"Dimension Type\":\n",
    "# Job Title\n",
    "# Company Size\n",
    "# Industry\n",
    "# Timeseries\n",
    "# Quick Facts\n",
    "glassdoor_job_title = glassdoor_df[glassdoor_df['Dimension Type']=='Job Title']\n",
    "glassdoor_company_size = glassdoor_df[glassdoor_df['Dimension Type']=='Company Size']\n",
    "glassdoor_industry = glassdoor_df[glassdoor_df['Dimension Type']=='Industry']\n",
    "glassdoor_timeseries = glassdoor_df[glassdoor_df['Dimension Type']=='Timeseries']\n",
    "glassdoor_quick_facts = glassdoor_df[glassdoor_df['Dimension Type']=='Quick Facts']"
   ]
  },
  {
   "cell_type": "code",
   "execution_count": null,
   "metadata": {},
   "outputs": [],
   "source": [
    "#read out each into a csv for later use\n",
    "glassdoor_job_title.reset_index(drop=True,inplace=True)\n",
    "glassdoor_job_title.to_csv(\"Resources/glassdoor_job_title_data.csv\", encoding=\"utf-8\", index=False, header=True)"
   ]
  },
  {
   "cell_type": "code",
   "execution_count": 30,
   "metadata": {},
   "outputs": [],
   "source": [
    "#read out each into a csv for later use\n",
    "glassdoor_company_size.reset_index(drop=True,inplace=True)\n",
    "glassdoor_company_size.to_csv(\"Resources/glassdoor_company_size.csv\", encoding=\"utf-8\", index=False, header=True)"
   ]
  },
  {
   "cell_type": "code",
   "execution_count": 31,
   "metadata": {},
   "outputs": [],
   "source": [
    "#read out each into a csv for later use\n",
    "glassdoor_industry.reset_index(drop=True,inplace=True)\n",
    "glassdoor_industry.to_csv(\"Resources/glassdoor_industry.csv\", encoding=\"utf-8\", index=False, header=True)"
   ]
  },
  {
   "cell_type": "code",
   "execution_count": 32,
   "metadata": {},
   "outputs": [],
   "source": [
    "#read out each into a csv for later use\n",
    "glassdoor_timeseries.reset_index(drop=True,inplace=True)\n",
    "glassdoor_timeseries.to_csv(\"Resources/glassdoor_timeseries.csv\", encoding=\"utf-8\", index=False, header=True)"
   ]
  },
  {
   "cell_type": "code",
   "execution_count": 33,
   "metadata": {},
   "outputs": [],
   "source": [
    "#read out each into a csv for later use\n",
    "glassdoor_quick_facts.reset_index(drop=True,inplace=True)\n",
    "glassdoor_quick_facts.to_csv(\"Resources/glassdoor_quick_facts.csv\", encoding=\"utf-8\", index=False, header=True)"
   ]
  },
  {
   "cell_type": "code",
   "execution_count": null,
   "metadata": {},
   "outputs": [],
   "source": []
  }
 ],
 "metadata": {
  "kernelspec": {
   "display_name": "Python 3",
   "language": "python",
   "name": "python3"
  },
  "language_info": {
   "codemirror_mode": {
    "name": "ipython",
    "version": 3
   },
   "file_extension": ".py",
   "mimetype": "text/x-python",
   "name": "python",
   "nbconvert_exporter": "python",
   "pygments_lexer": "ipython3",
   "version": "3.7.1"
  }
 },
 "nbformat": 4,
 "nbformat_minor": 2
}
